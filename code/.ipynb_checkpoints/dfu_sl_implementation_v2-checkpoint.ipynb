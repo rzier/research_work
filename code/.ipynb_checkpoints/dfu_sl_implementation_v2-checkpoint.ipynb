{
 "cells": [
  {
   "cell_type": "markdown",
   "id": "95ead3f5",
   "metadata": {},
   "source": [
    "# Diabetic Foot Ulcer\n",
    "## Shallow Learning Approach v2.0\n",
    "\n",
    "\n",
    "Todo\n",
    "- [ ] Dataset Organisation\n",
    "- [ ] Feature Extraction\n",
    "- [ ] Classification\n",
    "- [ ] Clustering"
   ]
  },
  {
   "cell_type": "markdown",
   "id": "64e48ffd",
   "metadata": {},
   "source": [
    "# Something About The Dataset\n",
    "\n",
    "## Foot Plantar Dataset\n",
    "\n",
    "Consist of two groups\n",
    "1. Control Group : Do not have Diabetic Foot Ulcer.\n",
    "2. Diabetic Group: Those Who Do Have Diabeties\n",
    "\n",
    "Each Group Have Their foot thermograms\n",
    "\n",
    "- [Link To Dataset IEEE Dataport]()"
   ]
  },
  {
   "cell_type": "markdown",
   "id": "e414c5a8",
   "metadata": {},
   "source": [
    "# Part 1: Data Exploration"
   ]
  },
  {
   "cell_type": "code",
   "execution_count": 5,
   "id": "f0ce7366",
   "metadata": {},
   "outputs": [],
   "source": [
    "# Helper Functions\n",
    "from IPython.display import HTML\n",
    "\n",
    "import warnings\n",
    "\n",
    "with warnings.catch_warnings():\n",
    "    warnings.simplefilter(\"ignore\")\n",
    "\n",
    "def printImages(title, paths, row_c):\n",
    "    doc = \"\"\n",
    "    con = 0\n",
    "    ss = \"<td><img src=\\\"%s\\\">%s</img></td>\"\n",
    "    rows = \"\"\n",
    "    for path in paths:\n",
    "        path = \"/\".join(path.split(\"/\")[-3:])\n",
    "        rows += ss%(path, path.split(\"/\")[-1])\n",
    "        con += 1\n",
    "        if con % row_c == 0 :\n",
    "            doc += \"<tr>%s</tr>\"%(rows)\n",
    "            rows = \"\"\n",
    "    if len(rows) > 0: doc += \"<tr>%s</tr>\"%(rows)\n",
    "\n",
    "\n",
    "    html = \"\"\"\n",
    "    <!DOCTYPE html>\n",
    "    <p>%s</p>\n",
    "    <table>\n",
    "    %s\n",
    "    </table>\n",
    "    \"\"\"%(title, doc)\n",
    "\n",
    "    display(HTML(html))\n",
    "    \n",
    "\n",
    "# Get Path Name\n",
    "def path(name):\n",
    "    return \"ds/dfu_thermo_ds/%s\"%name\n",
    "\n",
    "\n",
    "# Convert To Grayscale\n",
    "\n",
    "def rgb2gs(smpl):\n",
    "    s_height, s_width, _ = smpl.shape\n",
    "    grayscale =  [ [ [ 0, 0, 0 ]   for i in range(s_width) ] for _ in range(s_height)]\n",
    "    \n",
    "    for y in range(s_height):\n",
    "        for x in range(s_width):\n",
    "            r, g, b = smpl[y][x]\n",
    "            # copied formula \n",
    "            gv = 0.299 * r + 0.587 * g + 0.114 * b\n",
    "            grayscale[y][x] = [gv, gv, gv]\n",
    "    grayscale = np.array(grayscale, dtype=np.uint8)\n",
    "    return grayscale\n",
    "\n",
    "def rgb2gs1(smpl):\n",
    "    s_height, s_width, _ = smpl.shape\n",
    "    grayscale =  [ [ 0   for i in range(s_width) ] for _ in range(s_height)]\n",
    "    \n",
    "    for y in range(s_height):\n",
    "        for x in range(s_width):\n",
    "            r, g, b = smpl[y][x]\n",
    "            # copied formula \n",
    "            gv = 0.299 * r + 0.587 * g + 0.114 * b\n",
    "            grayscale[y][x] = gv\n",
    "    grayscale = np.array(grayscale, dtype=np.uint8)\n",
    "    return grayscale"
   ]
  },
  {
   "cell_type": "code",
   "execution_count": 6,
   "id": "92af8764",
   "metadata": {},
   "outputs": [
    {
     "name": "stdout",
     "output_type": "stream",
     "text": [
      "Control Group Subjects:  45.0\n",
      "Diabetic Group Subjects:  122.0\n",
      "Total Subjects:  167.0\n"
     ]
    }
   ],
   "source": [
    "ds_path = \"/home/someone/svnit/mtech/sem3/research/code/ds/dfu_thermo_ds/\"\n",
    "import os\n",
    "\n",
    "thermograms_names = os.listdir(ds_path)\n",
    "cg_thermograms_names = [ x for x in thermograms_names if x.startswith(\"CG\") ]\n",
    "dg_thermograms_names = [ x for x in thermograms_names if x.startswith(\"DM\") ]\n",
    "\n",
    "print(\"Control Group Subjects: \", len(cg_thermograms_names) / 2)\n",
    "print(\"Diabetic Group Subjects: \", len(dg_thermograms_names) / 2)\n",
    "print(\"Total Subjects: \", len(cg_thermograms_names) / 2 + len(dg_thermograms_names) / 2)"
   ]
  },
  {
   "cell_type": "code",
   "execution_count": 7,
   "id": "73802431",
   "metadata": {},
   "outputs": [
    {
     "data": {
      "text/html": [
       "\n",
       "    <!DOCTYPE html>\n",
       "    <p>Random Images From Control Group</p>\n",
       "    <table>\n",
       "    <tr><td><img src=\"ds/dfu_thermo_ds/CG036_M_R.png\">CG036_M_R.png</img></td><td><img src=\"ds/dfu_thermo_ds/CG033_M_R.png\">CG033_M_R.png</img></td><td><img src=\"ds/dfu_thermo_ds/CG012_F_L.png\">CG012_F_L.png</img></td><td><img src=\"ds/dfu_thermo_ds/CG007_F_L.png\">CG007_F_L.png</img></td><td><img src=\"ds/dfu_thermo_ds/CG036_M_L.png\">CG036_M_L.png</img></td></tr><tr><td><img src=\"ds/dfu_thermo_ds/CG004_F_R.png\">CG004_F_R.png</img></td><td><img src=\"ds/dfu_thermo_ds/CG030_M_R.png\">CG030_M_R.png</img></td><td><img src=\"ds/dfu_thermo_ds/CG018_M_R.png\">CG018_M_R.png</img></td><td><img src=\"ds/dfu_thermo_ds/CG037_M_R.png\">CG037_M_R.png</img></td><td><img src=\"ds/dfu_thermo_ds/CG002_M_R.png\">CG002_M_R.png</img></td></tr><tr><td><img src=\"ds/dfu_thermo_ds/CG018_M_L.png\">CG018_M_L.png</img></td><td><img src=\"ds/dfu_thermo_ds/CG020_F_L.png\">CG020_F_L.png</img></td><td><img src=\"ds/dfu_thermo_ds/CG013_M_L.png\">CG013_M_L.png</img></td><td><img src=\"ds/dfu_thermo_ds/CG041_F_R.png\">CG041_F_R.png</img></td><td><img src=\"ds/dfu_thermo_ds/CG017_F_L.png\">CG017_F_L.png</img></td></tr><tr><td><img src=\"ds/dfu_thermo_ds/CG003_M_R.png\">CG003_M_R.png</img></td><td><img src=\"ds/dfu_thermo_ds/CG022_M_R.png\">CG022_M_R.png</img></td><td><img src=\"ds/dfu_thermo_ds/CG042_F_L.png\">CG042_F_L.png</img></td><td><img src=\"ds/dfu_thermo_ds/CG003_M_L.png\">CG003_M_L.png</img></td><td><img src=\"ds/dfu_thermo_ds/CG024_F_R.png\">CG024_F_R.png</img></td></tr>\n",
       "    </table>\n",
       "    "
      ],
      "text/plain": [
       "<IPython.core.display.HTML object>"
      ]
     },
     "metadata": {},
     "output_type": "display_data"
    }
   ],
   "source": [
    "# Some Random Images From Control Group\n",
    "import numpy as np\n",
    "import random\n",
    "\n",
    "count = 20\n",
    "random.seed(1337)\n",
    "cg_sample = random.sample(cg_thermograms_names, count)\n",
    "\n",
    "\n",
    "printImages(\"Random Images From Control Group\", [ \"ds/dfu_thermo_ds/%s\"%x for x in cg_sample], 5)"
   ]
  },
  {
   "cell_type": "code",
   "execution_count": 8,
   "id": "5e59e99c",
   "metadata": {},
   "outputs": [
    {
     "data": {
      "text/html": [
       "\n",
       "    <!DOCTYPE html>\n",
       "    <p>Random Images From Diabetic Group</p>\n",
       "    <table>\n",
       "    <tr><td><img src=\"ds/dfu_thermo_ds/DM063_F_R.png\">DM063_F_R.png</img></td><td><img src=\"ds/dfu_thermo_ds/DM040_F_L.png\">DM040_F_L.png</img></td><td><img src=\"ds/dfu_thermo_ds/DM063_F_L.png\">DM063_F_L.png</img></td><td><img src=\"ds/dfu_thermo_ds/DM030_F_R.png\">DM030_F_R.png</img></td><td><img src=\"ds/dfu_thermo_ds/DM110_F_L.png\">DM110_F_L.png</img></td></tr><tr><td><img src=\"ds/dfu_thermo_ds/DM071_F_L.png\">DM071_F_L.png</img></td><td><img src=\"ds/dfu_thermo_ds/DM083_M_L.png\">DM083_M_L.png</img></td><td><img src=\"ds/dfu_thermo_ds/DM074_F_L.png\">DM074_F_L.png</img></td><td><img src=\"ds/dfu_thermo_ds/DM004_M_R.png\">DM004_M_R.png</img></td><td><img src=\"ds/dfu_thermo_ds/DM020_F_L.png\">DM020_F_L.png</img></td></tr><tr><td><img src=\"ds/dfu_thermo_ds/DM120_F_R.png\">DM120_F_R.png</img></td><td><img src=\"ds/dfu_thermo_ds/DM105_F_L.png\">DM105_F_L.png</img></td><td><img src=\"ds/dfu_thermo_ds/DM080_F_L.png\">DM080_F_L.png</img></td><td><img src=\"ds/dfu_thermo_ds/DM104_F_R.png\">DM104_F_R.png</img></td><td><img src=\"ds/dfu_thermo_ds/DM086_F_R.png\">DM086_F_R.png</img></td></tr><tr><td><img src=\"ds/dfu_thermo_ds/DM093_F_L.png\">DM093_F_L.png</img></td><td><img src=\"ds/dfu_thermo_ds/DM059_F_L.png\">DM059_F_L.png</img></td><td><img src=\"ds/dfu_thermo_ds/DM105_F_R.png\">DM105_F_R.png</img></td><td><img src=\"ds/dfu_thermo_ds/DM015_M_R.png\">DM015_M_R.png</img></td><td><img src=\"ds/dfu_thermo_ds/DM091_M_R.png\">DM091_M_R.png</img></td></tr>\n",
       "    </table>\n",
       "    "
      ],
      "text/plain": [
       "<IPython.core.display.HTML object>"
      ]
     },
     "metadata": {},
     "output_type": "display_data"
    }
   ],
   "source": [
    "# Some Random Images From Control Group\n",
    "import numpy as np\n",
    "import random\n",
    "\n",
    "count = 20\n",
    "random.seed(1337)\n",
    "dg_sample = random.sample(dg_thermograms_names, count)\n",
    "\n",
    "\n",
    "printImages(\"Random Images From Diabetic Group\", [ \"ds/dfu_thermo_ds/%s\"%x for x in dg_sample], 5)"
   ]
  },
  {
   "cell_type": "markdown",
   "id": "a0f3ec7e",
   "metadata": {},
   "source": [
    "# Part 2: Feature Extraction From Images\n",
    "\n",
    "Preprocessing\n",
    "\n",
    "- [ ] Color to Grayscale Image\n"
   ]
  },
  {
   "cell_type": "code",
   "execution_count": 9,
   "id": "6307b1e0",
   "metadata": {},
   "outputs": [
    {
     "name": "stderr",
     "output_type": "stream",
     "text": [
      "/tmp/ipykernel_1556157/1246274058.py:7: DeprecationWarning: Starting with ImageIO v3 the behavior of this function will switch to that of iio.v3.imread. To keep the current behavior (and make this warning disappear) use `import imageio.v2 as imageio` or call `imageio.v2.imread` directly.\n",
      "  img1 = img.imread(path(cg_thermograms_names[0]))\n"
     ]
    },
    {
     "data": {
      "text/plain": [
       "<matplotlib.image.AxesImage at 0x79c6a1748430>"
      ]
     },
     "execution_count": 9,
     "metadata": {},
     "output_type": "execute_result"
    },
    {
     "data": {
      "image/png": "[encoded data removed]",
      "text/plain": [
       "<Figure size 432x288 with 1 Axes>"
      ]
     },
     "metadata": {
      "needs_background": "light"
     },
     "output_type": "display_data"
    }
   ],
   "source": [
    "import matplotlib.pyplot as plt\n",
    "import imageio as img\n",
    "\n",
    "\n",
    "\n",
    "\n",
    "img1 = img.imread(path(cg_thermograms_names[0]))\n",
    "img2 = rgb2gs1(img1)\n",
    "\n",
    "plt.imshow(img2)\n",
    "\n"
   ]
  },
  {
   "cell_type": "code",
   "execution_count": 26,
   "id": "c1758eb5",
   "metadata": {},
   "outputs": [
    {
     "data": {
      "text/plain": [
       "array([100,   0,   0,   0,   0,   0,   0,   0,   0,   0,   0,   0,   0,\n",
       "         0,   0,   0,   0,   0,   0,   2,   1,   0,   1,   1,   0,   1,\n",
       "         1,   0,   1,   0,   2,   0,   0,   2,   1,   1,   0,   0,   1,\n",
       "         0,   1,   2,   3,   1,   1,   1,   2,   2,   3,   1,   3,   3,\n",
       "         3,   2,   4,   1,   3,   3,   2,   3,   4,   4,  12,   4,   2,\n",
       "         5,   1,   3,   1,   1,   4,   5,   2,   3,   5,   5,   8,   4,\n",
       "         3,   5,   2,   6,   6,   4,   6,   4,   8,   4,   6,   6,   8,\n",
       "         2,   2,   3,   3,   1,   5,   8,  12,   7,   3,   5,   6,   7,\n",
       "         5,   6,   7,   9,  14,   5,   4,   5,   2,   3,   8,   7,   7,\n",
       "         5,   2,   3,   1,   3,   2,   2,   2,   1,   3,   3,   2,   2,\n",
       "         3,   5,   7,   7,   6,   3,   1,   5,   2,   2,   3,   3,   2,\n",
       "         0,   2,   1,   2,   2,   1,   2,   0,   4,   2,   0,   0,   0,\n",
       "         0,   0,   0,   0,   0,   0,   0,   0,   0,   0,   0,   0,   0,\n",
       "         0,   0,   0,   0,   0,   0,   0,   0,   0,   0,   0,   0,   0,\n",
       "         0,   0,   0,   0,   0,   0,   0,   0,   0,   0,   0,   0,   0,\n",
       "         0,   0,   0,   0,   0,   0,   0,   0,   0,   0,   0,   0,   0,\n",
       "         0,   0,   0,   0,   0,   0,   0,   0,   0,   0,   0,   0,   0,\n",
       "         0,   0,   0,   0,   0,   0,   0,   0,   0,   0,   0,   0,   0,\n",
       "         0,   0,   0,   0,   0,   0,   0,   0,   0,   0,   0,   0,   0,\n",
       "         0,   0,   0,   0,   0,   0,   0,   0,   0], dtype=uint8)"
      ]
     },
     "execution_count": 26,
     "metadata": {},
     "output_type": "execute_result"
    }
   ],
   "source": [
    "from skimage.feature import graycomatrix, graycoprops\n",
    "\n",
    "def toglcm(gv_img):\n",
    "    glcm = graycomatrix(\n",
    "        img2, distances=[1], angles=[45], levels=256, symmetric=True, normed=False\n",
    "    )\n",
    "    return np.array(glcm, dtype=np.uint8).reshape(256, 256,)\n",
    "\n",
    "toglcm(img2)[0]\n"
   ]
  },
  {
   "cell_type": "code",
   "execution_count": 11,
   "id": "0cca7c62",
   "metadata": {},
   "outputs": [
    {
     "name": "stderr",
     "output_type": "stream",
     "text": [
      "/tmp/ipykernel_1556157/1745600107.py:1: DeprecationWarning: Starting with ImageIO v3 the behavior of this function will switch to that of iio.v3.imread. To keep the current behavior (and make this warning disappear) use `import imageio.v2 as imageio` or call `imageio.v2.imread` directly.\n",
      "  plt.imshow(toglcm(rgb2gs1(img.imread(path(dg_thermograms_names[150])))))\n"
     ]
    },
    {
     "data": {
      "image/png": "[encoded data removed]",
      "text/plain": [
       "<Figure size 432x288 with 1 Axes>"
      ]
     },
     "metadata": {
      "needs_background": "light"
     },
     "output_type": "display_data"
    },
    {
     "name": "stderr",
     "output_type": "stream",
     "text": [
      "/tmp/ipykernel_1556157/1745600107.py:3: DeprecationWarning: Starting with ImageIO v3 the behavior of this function will switch to that of iio.v3.imread. To keep the current behavior (and make this warning disappear) use `import imageio.v2 as imageio` or call `imageio.v2.imread` directly.\n",
      "  plt.imshow(toglcm(rgb2gs1(img.imread(path(dg_thermograms_names[0])))))\n"
     ]
    },
    {
     "data": {
      "image/png": "[encoded data removed]",
      "text/plain": [
       "<Figure size 432x288 with 1 Axes>"
      ]
     },
     "metadata": {
      "needs_background": "light"
     },
     "output_type": "display_data"
    }
   ],
   "source": [
    "plt.imshow(toglcm(rgb2gs1(img.imread(path(dg_thermograms_names[150])))))\n",
    "plt.show()\n",
    "plt.imshow(toglcm(rgb2gs1(img.imread(path(dg_thermograms_names[0])))))\n",
    "plt.show()"
   ]
  },
  {
   "cell_type": "markdown",
   "id": "36ceee39",
   "metadata": {},
   "source": [
    "# Part 2.a : Understanding GLCM\n",
    "## Gray Scale Co-occurance Matrix\n",
    "\n",
    "\n"
   ]
  },
  {
   "cell_type": "code",
   "execution_count": 33,
   "id": "3e7398eb",
   "metadata": {
    "scrolled": true
   },
   "outputs": [
    {
     "data": {
      "text/plain": [
       "<matplotlib.image.AxesImage at 0x79c6891af310>"
      ]
     },
     "execution_count": 33,
     "metadata": {},
     "output_type": "execute_result"
    },
    {
     "data": {
      "image/png": "[encoded data removed]",
      "text/plain": [
       "<Figure size 432x288 with 1 Axes>"
      ]
     },
     "metadata": {
      "needs_background": "light"
     },
     "output_type": "display_data"
    }
   ],
   "source": [
    "import math\n",
    "\n",
    "def angle(x, y, theta):\n",
    "    assert theta % 45 == 0\n",
    "    d = 1\n",
    "    if theta % 45 == 0 and not theta % 90 == 0: d = math.sqrt(2)\n",
    "    theta = theta * (math.pi / 180)\n",
    "    y1 = y - math.floor(d * math.sin(theta))\n",
    "    x1 = x + math.floor(d * math.cos(theta))\n",
    "    return (x1, y1)\n",
    "def _toglcm(img, ang):\n",
    "    max = img.reshape(-1, ).max() + 1\n",
    "    glcm = [[0 for i in range(max)] for _ in range(max)]\n",
    "    glcm = np.array(glcm, dtype=np.uint8)\n",
    "\n",
    "    for y in range(img2.shape[1]):\n",
    "        for x in range(img2.shape[0]):\n",
    "            val = img2[x][y]\n",
    "            x1, y1 = angle(x, y, ang)\n",
    "            if x1 < 0 or y1 < 0 or x1 >= img2.shape[0] or y1 >= img2.shape[1] : continue\n",
    "            val1 = img2[x1][y1]\n",
    "            glcm[val1][val] += 1\n",
    "            glcm[val][val1] += 1 \n",
    "\n",
    "    return glcm\n",
    "glcm2 = _toglcm(img2, 45)\n",
    "plt.imshow(glcm2)"
   ]
  },
  {
   "cell_type": "code",
   "execution_count": null,
   "id": "9a0951e2",
   "metadata": {},
   "outputs": [],
   "source": [
    "from PIL import ImageDraw, Image, ImageFont\n",
    "\n",
    "\n",
    "\n",
    "\n",
    "def drawMatrix(mat):\n",
    "    assert mat.shape[0] == mat.shape[1]\n",
    "    canvas = Image.new(\"RGB\", [400, 400])\n",
    "    pen = ImageDraw.Draw(canvas)\n",
    "    n = mat.shape[0]\n",
    "    CANVAS_SIZE = 400\n",
    "    GRID_COUNT = n\n",
    "    GRID_SIZE = CANVAS_SIZE / GRID_COUNT \n",
    "\n",
    "\n",
    "\n",
    "    for x in range(GRID_COUNT):\n",
    "        start_x = x * GRID_SIZE\n",
    "        pen.line([(start_x, 0), (start_x, CANVAS_SIZE)], fill=\"white\")\n",
    "    \n",
    "    for y in range(GRID_COUNT ):\n",
    "        start_y = y * GRID_SIZE\n",
    "        pen.line([(0, start_y), (CANVAS_SIZE, start_y)], fill=\"white\")\n",
    "    font = ImageFont.truetype(\"UbuntuMonoNerdFont-Bold.ttf\", 30)\n",
    "    for ix in range(GRID_COUNT):\n",
    "        for iy in range(GRID_COUNT):\n",
    "            x = ix * GRID_SIZE\n",
    "            y = iy * GRID_SIZE\n",
    "        \n",
    "            \n",
    "            i = mat[ix][iy]\n",
    "            cx, cy, cw, ch = font.getbbox(\"%d\"%i)\n",
    "            pen.text((x - cx + GRID_SIZE / 2 - cw/2, y - cy + GRID_SIZE / 2 - ch / 2), \"%d\"%i, fill=\"white\", align=\"center\", font=font)\n",
    "    print(pen.textbbox((10, 10), \"1\", font=font))\n",
    "    return canvas\n"
   ]
  },
  {
   "cell_type": "code",
   "execution_count": null,
   "id": "a560012f",
   "metadata": {},
   "outputs": [],
   "source": []
  }
 ],
 "metadata": {
  "kernelspec": {
   "display_name": "Python 3 (ipykernel)",
   "language": "python",
   "name": "python3"
  },
  "language_info": {
   "codemirror_mode": {
    "name": "ipython",
    "version": 3
   },
   "file_extension": ".py",
   "mimetype": "text/x-python",
   "name": "python",
   "nbconvert_exporter": "python",
   "pygments_lexer": "ipython3",
   "version": "3.10.12"
  }
 },
 "nbformat": 4,
 "nbformat_minor": 5
}
