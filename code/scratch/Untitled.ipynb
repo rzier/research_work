{
 "cells": [
  {
   "cell_type": "code",
   "execution_count": 6,
   "id": "35cbfd1b",
   "metadata": {},
   "outputs": [],
   "source": [
    "import random\n",
    "import numpy as np\n",
    "import math"
   ]
  },
  {
   "cell_type": "code",
   "execution_count": 25,
   "id": "722261e0",
   "metadata": {},
   "outputs": [],
   "source": [
    "class Perceptron:\n",
    "    def __init__(self, in_count):\n",
    "        self.weights = np.random.rand(in_count)\n",
    "        self.bias = np.random.rand(1)\n",
    "        self.gradw = np.zeros_like(self.weights)\n",
    "        self.gradb = np.zeros_like(self.bias)\n",
    "    def __call__(self, inp):\n",
    "        return self.activation(inp)\n",
    "    def activation(self, inp):\n",
    "        return np.dot(self.weights, inp) + self.bias"
   ]
  },
  {
   "cell_type": "code",
   "execution_count": 26,
   "id": "5cf61208",
   "metadata": {},
   "outputs": [],
   "source": [
    "class Dense:\n",
    "    def __init__(self, in_len, neurons):\n",
    "        self.layer = [ Perceptron(in_len) for _ in range(neurons) ]\n",
    "    \n",
    "    def __call__(self, inp):\n",
    "        op = []\n",
    "        for p in self.layer:\n",
    "            op += [ p(inp)[0] ]\n",
    "        return np.array(op)"
   ]
  },
  {
   "cell_type": "code",
   "execution_count": 27,
   "id": "cd805641",
   "metadata": {},
   "outputs": [],
   "source": [
    "network = [\n",
    "    Dense(10, 10),\n",
    "    np.vectorize(math.tanh),\n",
    "    Dense(10, 2),\n",
    "    Dense(2, 1)\n",
    "]"
   ]
  },
  {
   "cell_type": "code",
   "execution_count": 29,
   "id": "d654e292",
   "metadata": {},
   "outputs": [
    {
     "name": "stdout",
     "output_type": "stream",
     "text": [
      "[4.2784607]\n"
     ]
    }
   ],
   "source": [
    "inp = np.arange(0, 10)\n",
    "for layer in network:\n",
    "    inp = layer(inp)\n",
    "print(inp)"
   ]
  },
  {
   "cell_type": "code",
   "execution_count": null,
   "id": "142c07fd",
   "metadata": {},
   "outputs": [],
   "source": [
    "def train(network, index=0):\n",
    "    pass\n",
    "    "
   ]
  }
 ],
 "metadata": {
  "kernelspec": {
   "display_name": "Python 3 (ipykernel)",
   "language": "python",
   "name": "python3"
  },
  "language_info": {
   "codemirror_mode": {
    "name": "ipython",
    "version": 3
   },
   "file_extension": ".py",
   "mimetype": "text/x-python",
   "name": "python",
   "nbconvert_exporter": "python",
   "pygments_lexer": "ipython3",
   "version": "3.10.12"
  }
 },
 "nbformat": 4,
 "nbformat_minor": 5
}
