{
 "cells": [
  {
   "cell_type": "code",
   "execution_count": 68,
   "id": "fe60d42d",
   "metadata": {},
   "outputs": [],
   "source": [
    "from PIL import Image\n",
    "import imageio as iio\n",
    "import imgaug as ia\n",
    "from imgaug import augmenters as iaa\n",
    "import matplotlib.pyplot as plt"
   ]
  },
  {
   "cell_type": "code",
   "execution_count": 74,
   "id": "7f58d8d5",
   "metadata": {},
   "outputs": [
    {
     "name": "stderr",
     "output_type": "stream",
     "text": [
      "/tmp/ipykernel_187997/1916038137.py:1: DeprecationWarning: Starting with ImageIO v3 the behavior of this function will switch to that of iio.v3.imread. To keep the current behavior (and make this warning disappear) use `import imageio.v2 as imageio` or call `imageio.v2.imread` directly.\n",
      "  image1 = iio.imread(\"ds/CG/CG001_M_L.png\")\n"
     ]
    }
   ],
   "source": [
    "image1 = iio.imread(\"ds/CG/CG001_M_L.png\")"
   ]
  },
  {
   "cell_type": "code",
   "execution_count": 94,
   "id": "da27bebc",
   "metadata": {},
   "outputs": [],
   "source": [
    "transform = [\n",
    "    iaa.Affine(rotate=(10, 10)),\n",
    "    iaa.AdditiveGaussianNoise(scale=(30, 90)),\n",
    "    iaa.AddToHueAndSaturation((-60, 60)),\n",
    "    iaa.GammaContrast(gamma=(2.5, 1.3))\n",
    "]\n",
    "\n"
   ]
  },
  {
   "cell_type": "code",
   "execution_count": 108,
   "id": "0daf0768",
   "metadata": {},
   "outputs": [
    {
     "name": "stderr",
     "output_type": "stream",
     "text": [
      "/tmp/ipykernel_187997/398855867.py:17: DeprecationWarning: Starting with ImageIO v3 the behavior of this function will switch to that of iio.v3.imread. To keep the current behavior (and make this warning disappear) use `import imageio.v2 as imageio` or call `imageio.v2.imread` directly.\n",
      "  images = generate(iio.imread(\"ds/DG/%s\"%(names)))\n",
      "/tmp/ipykernel_187997/398855867.py:23: DeprecationWarning: Starting with ImageIO v3 the behavior of this function will switch to that of iio.v3.imread. To keep the current behavior (and make this warning disappear) use `import imageio.v2 as imageio` or call `imageio.v2.imread` directly.\n",
      "  images = generate(iio.imread(\"ds/CG/%s\"%(names)))\n"
     ]
    }
   ],
   "source": [
    "from random import randint\n",
    "\n",
    "def generate(image):\n",
    "    '''\n",
    "    Todo:\n",
    "    Randomize the order depend upon the count\n",
    "    '''\n",
    "    arr = []\n",
    "    for t in transform:\n",
    "        arr += [ t(image=image1) ]\n",
    "    return arr\n",
    "\n",
    "\n",
    "import os\n",
    "\n",
    "for names in os.listdir(\"ds/DG\"):\n",
    "    images = generate(iio.imread(\"ds/DG/%s\"%(names)))\n",
    "    for i, image in enumerate(images):\n",
    "        iio.imwrite(f\"ds/aug/{names}%d.png\"%(i), image)\n",
    "        \n",
    "\n",
    "for names in os.listdir(\"ds/CG\"):\n",
    "    images = generate(iio.imread(\"ds/CG/%s\"%(names)))\n",
    "    for i, image in enumerate(images):\n",
    "        iio.imwrite(f\"ds/aug/{names}%d.png\"%(i), image)"
   ]
  },
  {
   "cell_type": "code",
   "execution_count": 112,
   "id": "5f7aae67",
   "metadata": {},
   "outputs": [],
   "source": [
    "def getDGImagesPath():\n",
    "    paths = os.listdir(\"ds/aug\")\n",
    "    return [ x for x in paths if x.startswith(\"DM\") ]\n",
    "\n",
    "def getCGImagesPath():\n",
    "    paths = os.listdir(\"ds/aug\")\n",
    "    return [ x for x in paths if x.startswith(\"CG\") ]"
   ]
  },
  {
   "cell_type": "code",
   "execution_count": 116,
   "id": "adf6f2e4",
   "metadata": {},
   "outputs": [],
   "source": [
    "from IPython.display import HTML\n",
    "\n",
    "def printImages(title, paths, row_c):\n",
    "    doc = \"\"\n",
    "    con = 0\n",
    "    ss = \"<td><img src=\\\"%s\\\">%s</img></td>\"\n",
    "    rows = \"\"\n",
    "    for path in paths:\n",
    "        path = \"ds/aug/%s\"%(path)\n",
    "        path = \"/\".join(path.split(\"/\")[-3:])\n",
    "        rows += ss%(path, path.split(\"/\")[-1])\n",
    "        con += 1\n",
    "        if con % row_c == 0 :\n",
    "            doc += \"<tr>%s</tr>\"%(rows)\n",
    "            rows = \"\"\n",
    "    if len(rows) > 0: doc += \"<tr>%s</tr>\"%(rows)\n",
    "\n",
    "\n",
    "    html = \"\"\"\n",
    "    <!DOCTYPE html>\n",
    "    <p>%s</p>\n",
    "    <table>\n",
    "    %s\n",
    "    </table>\n",
    "    \"\"\"%(title, doc)\n",
    "\n",
    "    display(HTML(html))"
   ]
  },
  {
   "cell_type": "code",
   "execution_count": 127,
   "id": "878687b5",
   "metadata": {},
   "outputs": [
    {
     "name": "stdout",
     "output_type": "stream",
     "text": [
      "Total Control Group Images 360\n"
     ]
    },
    {
     "data": {
      "text/html": [
       "\n",
       "    <!DOCTYPE html>\n",
       "    <p>Random 10 Images</p>\n",
       "    <table>\n",
       "    <tr><td><img src=\"ds/aug/CG016_M_L.png1.png\">CG016_M_L.png1.png</img></td><td><img src=\"ds/aug/CG033_M_L.png3.png\">CG033_M_L.png3.png</img></td><td><img src=\"ds/aug/CG037_M_R.png0.png\">CG037_M_R.png0.png</img></td><td><img src=\"ds/aug/CG027_M_L.png3.png\">CG027_M_L.png3.png</img></td><td><img src=\"ds/aug/CG036_M_L.png0.png\">CG036_M_L.png0.png</img></td></tr><tr><td><img src=\"ds/aug/CG021_M_L.png0.png\">CG021_M_L.png0.png</img></td><td><img src=\"ds/aug/CG039_M_L.png0.png\">CG039_M_L.png0.png</img></td><td><img src=\"ds/aug/CG034_M_L.png3.png\">CG034_M_L.png3.png</img></td><td><img src=\"ds/aug/CG028_M_R.png0.png\">CG028_M_R.png0.png</img></td><td><img src=\"ds/aug/CG038_M_L.png3.png\">CG038_M_L.png3.png</img></td></tr><tr><td><img src=\"ds/aug/CG013_M_L.png0.png\">CG013_M_L.png0.png</img></td><td><img src=\"ds/aug/CG044_F_R.png1.png\">CG044_F_R.png1.png</img></td><td><img src=\"ds/aug/CG023_F_R.png3.png\">CG023_F_R.png3.png</img></td><td><img src=\"ds/aug/CG032_M_L.png1.png\">CG032_M_L.png1.png</img></td><td><img src=\"ds/aug/CG043_M_L.png1.png\">CG043_M_L.png1.png</img></td></tr><tr><td><img src=\"ds/aug/CG036_M_R.png0.png\">CG036_M_R.png0.png</img></td><td><img src=\"ds/aug/CG015_M_L.png1.png\">CG015_M_L.png1.png</img></td><td><img src=\"ds/aug/CG031_M_R.png2.png\">CG031_M_R.png2.png</img></td><td><img src=\"ds/aug/CG035_M_R.png3.png\">CG035_M_R.png3.png</img></td><td><img src=\"ds/aug/CG031_M_L.png1.png\">CG031_M_L.png1.png</img></td></tr>\n",
       "    </table>\n",
       "    "
      ],
      "text/plain": [
       "<IPython.core.display.HTML object>"
      ]
     },
     "metadata": {},
     "output_type": "display_data"
    }
   ],
   "source": [
    "cgp = getCGImagesPath()\n",
    "dgp = getDGImagesPath()\n",
    "\n",
    "print(\"Total Control Group Images %d\"%(len(cgp)))\n",
    "cgp_r = []\n",
    "c = 20\n",
    "while len(cgp_r) < c :\n",
    "    index = randint(0, len(cgp))\n",
    "    cgp_r += [ cgp[index] ]\n",
    "\n",
    "printImages(\"Random 10 Images\", cgp_r, 5)\n",
    "    \n",
    "    "
   ]
  },
  {
   "cell_type": "code",
   "execution_count": 129,
   "id": "4c50ed1a",
   "metadata": {},
   "outputs": [
    {
     "name": "stdout",
     "output_type": "stream",
     "text": [
      "Total Diabetic Group Images 976\n"
     ]
    },
    {
     "data": {
      "text/html": [
       "\n",
       "    <!DOCTYPE html>\n",
       "    <p>Random 10 Images</p>\n",
       "    <table>\n",
       "    <tr><td><img src=\"ds/aug/DM085_F_L.png0.png\">DM085_F_L.png0.png</img></td><td><img src=\"ds/aug/DM068_F_R.png2.png\">DM068_F_R.png2.png</img></td><td><img src=\"ds/aug/DM054_F_R.png1.png\">DM054_F_R.png1.png</img></td><td><img src=\"ds/aug/DM119_F_R.png1.png\">DM119_F_R.png1.png</img></td><td><img src=\"ds/aug/DM002_M_L.png0.png\">DM002_M_L.png0.png</img></td></tr><tr><td><img src=\"ds/aug/DM051_F_R.png0.png\">DM051_F_R.png0.png</img></td><td><img src=\"ds/aug/DM005_M_R.png3.png\">DM005_M_R.png3.png</img></td><td><img src=\"ds/aug/DM084_F_L.png2.png\">DM084_F_L.png2.png</img></td><td><img src=\"ds/aug/DM018_M_R.png1.png\">DM018_M_R.png1.png</img></td><td><img src=\"ds/aug/DM087_F_R.png3.png\">DM087_F_R.png3.png</img></td></tr><tr><td><img src=\"ds/aug/DM070_F_R.png1.png\">DM070_F_R.png1.png</img></td><td><img src=\"ds/aug/DM101_F_L.png0.png\">DM101_F_L.png0.png</img></td><td><img src=\"ds/aug/DM008_M_L.png2.png\">DM008_M_L.png2.png</img></td><td><img src=\"ds/aug/DM101_F_L.png2.png\">DM101_F_L.png2.png</img></td><td><img src=\"ds/aug/DM069_F_R.png0.png\">DM069_F_R.png0.png</img></td></tr><tr><td><img src=\"ds/aug/DM022_F_R.png2.png\">DM022_F_R.png2.png</img></td><td><img src=\"ds/aug/DM103_F_R.png1.png\">DM103_F_R.png1.png</img></td><td><img src=\"ds/aug/DM106_F_L.png2.png\">DM106_F_L.png2.png</img></td><td><img src=\"ds/aug/DM017_F_L.png2.png\">DM017_F_L.png2.png</img></td><td><img src=\"ds/aug/DM015_M_R.png3.png\">DM015_M_R.png3.png</img></td></tr>\n",
       "    </table>\n",
       "    "
      ],
      "text/plain": [
       "<IPython.core.display.HTML object>"
      ]
     },
     "metadata": {},
     "output_type": "display_data"
    }
   ],
   "source": [
    "print(\"Total Diabetic Group Images %d\"%(len(dgp)))\n",
    "dgp_r = []\n",
    "c = 20\n",
    "while len(dgp_r) < c :\n",
    "    index = randint(0, len(dgp))\n",
    "    dgp_r += [ dgp[index] ]\n",
    "\n",
    "printImages(\"Random 10 Images\", dgp_r, 5)"
   ]
  },
  {
   "cell_type": "code",
   "execution_count": null,
   "id": "efb6f12b",
   "metadata": {},
   "outputs": [],
   "source": [
    "size=(65, 168)"
   ]
  }
 ],
 "metadata": {
  "kernelspec": {
   "display_name": "Python 3 (ipykernel)",
   "language": "python",
   "name": "python3"
  },
  "language_info": {
   "codemirror_mode": {
    "name": "ipython",
    "version": 3
   },
   "file_extension": ".py",
   "mimetype": "text/x-python",
   "name": "python",
   "nbconvert_exporter": "python",
   "pygments_lexer": "ipython3",
   "version": "3.10.12"
  }
 },
 "nbformat": 4,
 "nbformat_minor": 5
}
